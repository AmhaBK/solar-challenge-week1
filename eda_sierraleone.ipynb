{
 "cells": [
  {
   "cell_type": "code",
   "execution_count": null,
   "id": "0d59698c",
   "metadata": {},
   "outputs": [],
   "source": [
    "import pandas as pd\n",
    "import numpy as np\n",
    "import matplotlib.pyplot as plt\n",
    "import seaborn as sns\n",
    "from scipy import stats\n",
    "\n",
    "\n",
    "sierraleone= pd.read_csv(r\"C:\\Users\\mike\\Documents\\Kifiya_AIM\\data\\sierraleone-bumbuna.csv\", parse_dates=[\"Timestamp\"])\n",
    "\n",
    "print(sierraleone.head(7))\n",
    "\n",
    "print(sierraleone.dtypes)\n",
    "\n",
    "print(sierraleone.info())\n",
    "\n",
    "print(sierraleone.describe())\n",
    "\n",
    "print(sierraleone.isna().sum())\n",
    "\n",
    "# Drop column: 'Comments'\n",
    "sierraleone = sierraleone.drop(columns=['Comments'])\n",
    "# Sort by column: 'Timestamp' (ascending)\n",
    "sierraleone = sierraleone.sort_values(['Timestamp'])\n",
    "\n",
    "\n"
   ]
  }
 ],
 "metadata": {
  "language_info": {
   "name": "python"
  }
 },
 "nbformat": 4,
 "nbformat_minor": 5
}
