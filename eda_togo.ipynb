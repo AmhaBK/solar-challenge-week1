{
 "cells": [
  {
   "cell_type": "code",
   "execution_count": null,
   "id": "be6d6f1a",
   "metadata": {},
   "outputs": [],
   "source": [
    "import pandas as pd\n",
    "import numpy as np\n",
    "import matplotlib.pyplot as plt\n",
    "import seaborn as sns\n",
    "from scipy import stats\n",
    "\n",
    "\n",
    "togo= pd.read_csv(r\"C:\\Users\\mike\\Documents\\Kifiya_AIM\\data\\togo-dapaong_qc.csv\", parse_dates=[\"Timestamp\"])\n",
    "\n",
    "print(togo.head(7))\n",
    "\n",
    "print(togo.dtypes)\n",
    "\n",
    "print(togo.info())\n",
    "\n",
    "print(togo.describe())\n",
    "\n",
    "print(togo.isna().sum())\n",
    "\n",
    "# Drop column: 'Comments'\n",
    "togo = togo.drop(columns=['Comments'])\n",
    "# Sort by column: 'Timestamp' (ascending)\n",
    "togo = togo.sort_values(['Timestamp'])\n",
    "\n",
    "\n"
   ]
  }
 ],
 "metadata": {
  "language_info": {
   "name": "python"
  }
 },
 "nbformat": 4,
 "nbformat_minor": 5
}
